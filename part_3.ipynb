{
  "nbformat": 4,
  "nbformat_minor": 0,
  "metadata": {
    "colab": {
      "provenance": [],
      "authorship_tag": "ABX9TyNg9p8bkNn+GduR5tC26/KT",
      "include_colab_link": true
    },
    "kernelspec": {
      "name": "python3",
      "display_name": "Python 3"
    },
    "language_info": {
      "name": "python"
    }
  },
  "cells": [
    {
      "cell_type": "markdown",
      "metadata": {
        "id": "view-in-github",
        "colab_type": "text"
      },
      "source": [
        "<a href=\"https://colab.research.google.com/github/VoorugondaAnushka/23CSBTB29/blob/main/part_3.ipynb\" target=\"_parent\"><img src=\"https://colab.research.google.com/assets/colab-badge.svg\" alt=\"Open In Colab\"/></a>"
      ]
    },
    {
      "cell_type": "code",
      "execution_count": null,
      "metadata": {
        "colab": {
          "base_uri": "https://localhost:8080/"
        },
        "id": "nf-kbQZv2xtm",
        "outputId": "6f125b12-37f5-4f0a-a399-56238d95d7cd"
      },
      "outputs": [
        {
          "output_type": "stream",
          "name": "stdout",
          "text": [
            "    S ID     S Name  Course  Contact no\n",
            "0   2110    Anushka  B.tech  9966978198\n",
            "1   2111   Aathiqah  B.tech  1234567890\n",
            "2   2112    Hasitha  B.tech  9807654321\n",
            "3   2113  Varshitha  B.tech  8901234567\n",
            "4   2114      Kavya  B.tech  6789012345\n",
            "5   2115   Shryitha  B.tech  2345678901\n",
            "6   2116      Aachi  B.tech  5478901234\n",
            "7   2117      Arsha  B.tech  1234567809\n",
            "8   2118     Rimsha  B.tech  1098765432\n",
            "9   2119     Athiqa  B.tech  2345671890\n",
            "10  2120  Tejaswini  B.tech  2367894501\n",
            "11  2121   Vyshnavi  B.tech  6789012345\n",
            "12  2122   Harshini  B.tech  9187654789\n",
            "13  2123    Mamatha  B.tech  9866419261\n",
            "14  2124    Manjula  B.tech  7075267678\n",
            "15  2125     Manasa  B.tech  7072345678\n",
            "16  2126        Ram  B.tech  9988223344\n",
            "17  2127      Sitha  B.tech  1234560987\n",
            "18  2128   Lakshman  B.tech  2345678909\n",
            "19  2129     Ravana  B.tech  2244668890\n",
            "    S ID  Course\n",
            "0   2110  B.tech\n",
            "1   2111  B.tech\n",
            "2   2112  B.tech\n",
            "3   2113  B.tech\n",
            "4   2114  B.tech\n",
            "5   2115  B.tech\n",
            "6   2116  B.tech\n",
            "7   2117  B.tech\n",
            "8   2118  B.tech\n",
            "9   2119  B.tech\n",
            "10  2120  B.tech\n",
            "11  2121  B.tech\n",
            "12  2122  B.tech\n",
            "13  2123  B.tech\n",
            "14  2124  B.tech\n",
            "15  2125  B.tech\n",
            "16  2126  B.tech\n",
            "17  2127  B.tech\n",
            "18  2128  B.tech\n",
            "19  2129  B.tech\n"
          ]
        }
      ],
      "source": [
        "import pandas as pd\n",
        "data=pd.read_excel(\"AIML.xlsx\")\n",
        "print(data)\n",
        "df=pd.DataFrame(data,columns=[\"S ID\",\"Course\"])\n",
        "print(df)"
      ]
    },
    {
      "cell_type": "code",
      "source": [
        "import pandas as pd\n",
        "data=pd.read_csv(\"AIML.csv\")\n",
        "print(data)\n",
        "df=pd.DataFrame(data,columns=(\"Student ID\",\"Course\"))\n",
        "print(df)"
      ],
      "metadata": {
        "colab": {
          "base_uri": "https://localhost:8080/"
        },
        "id": "c9fauD905gjR",
        "outputId": "15e1074f-cef6-4bb0-a7c7-2ed56f33220d"
      },
      "execution_count": null,
      "outputs": [
        {
          "output_type": "stream",
          "name": "stdout",
          "text": [
            "    S ID     S Name  Course  Contact no\n",
            "0   2110    Anushka  B.tech  9966978198\n",
            "1   2111   Aathiqah  B.tech  1234567890\n",
            "2   2112    Hasitha  B.tech  9807654321\n",
            "3   2113  Varshitha  B.tech  8901234567\n",
            "4   2114      Kavya  B.tech  6789012345\n",
            "5   2115   Shryitha  B.tech  2345678901\n",
            "6   2116      Aachi  B.tech  5478901234\n",
            "7   2117      Arsha  B.tech  1234567809\n",
            "8   2118     Rimsha  B.tech  1098765432\n",
            "9   2119     Athiqa  B.tech  2345671890\n",
            "10  2120  Tejaswini  B.tech  2367894501\n",
            "11  2121   Vyshnavi  B.tech  6789012345\n",
            "12  2122   Harshini  B.tech  9187654789\n",
            "13  2123    Mamatha  B.tech  9866419261\n",
            "14  2124    Manjula  B.tech  7075267678\n",
            "15  2125     Manasa  B.tech  7072345678\n",
            "16  2126        Ram  B.tech  9988223344\n",
            "17  2127      Sitha  B.tech  1234560987\n",
            "18  2128   Lakshman  B.tech  2345678909\n",
            "19  2129     Ravana  B.tech  2244668890\n",
            "    Student ID  Course\n",
            "0          NaN  B.tech\n",
            "1          NaN  B.tech\n",
            "2          NaN  B.tech\n",
            "3          NaN  B.tech\n",
            "4          NaN  B.tech\n",
            "5          NaN  B.tech\n",
            "6          NaN  B.tech\n",
            "7          NaN  B.tech\n",
            "8          NaN  B.tech\n",
            "9          NaN  B.tech\n",
            "10         NaN  B.tech\n",
            "11         NaN  B.tech\n",
            "12         NaN  B.tech\n",
            "13         NaN  B.tech\n",
            "14         NaN  B.tech\n",
            "15         NaN  B.tech\n",
            "16         NaN  B.tech\n",
            "17         NaN  B.tech\n",
            "18         NaN  B.tech\n",
            "19         NaN  B.tech\n"
          ]
        }
      ]
    },
    {
      "cell_type": "code",
      "source": [
        "import pandas as pd\n",
        "data=pd.read_table(\"AIML.txt\")\n",
        "print(data)\n",
        "df=pd.DataFrame(data,columns=(\"Student ID\",\"Course\"))\n",
        "print(df)"
      ],
      "metadata": {
        "colab": {
          "base_uri": "https://localhost:8080/"
        },
        "id": "OsLtLUTo6At-",
        "outputId": "c47f2eec-0202-4d74-d2c4-bd3928c14a8e"
      },
      "execution_count": null,
      "outputs": [
        {
          "output_type": "stream",
          "name": "stdout",
          "text": [
            "    S ID     S Name  Course  Contact no\n",
            "0   2110    Anushka  B.tech  9966978198\n",
            "1   2111   Aathiqah  B.tech  1234567890\n",
            "2   2112    Hasitha  B.tech  9807654321\n",
            "3   2113  Varshitha  B.tech  8901234567\n",
            "4   2114      Kavya  B.tech  6789012345\n",
            "5   2115   Shryitha  B.tech  2345678901\n",
            "6   2116      Aachi  B.tech  5478901234\n",
            "7   2117      Arsha  B.tech  1234567809\n",
            "8   2118     Rimsha  B.tech  1098765432\n",
            "9   2119     Athiqa  B.tech  2345671890\n",
            "10  2120  Tejaswini  B.tech  2367894501\n",
            "11  2121   Vyshnavi  B.tech  6789012345\n",
            "12  2122   Harshini  B.tech  9187654789\n",
            "13  2123    Mamatha  B.tech  9866419261\n",
            "14  2124    Manjula  B.tech  7075267678\n",
            "15  2125     Manasa  B.tech  7072345678\n",
            "16  2126        Ram  B.tech  9988223344\n",
            "17  2127      Sitha  B.tech  1234560987\n",
            "18  2128   Lakshman  B.tech  2345678909\n",
            "19  2129     Ravana  B.tech  2244668890\n",
            "    Student ID  Course\n",
            "0          NaN  B.tech\n",
            "1          NaN  B.tech\n",
            "2          NaN  B.tech\n",
            "3          NaN  B.tech\n",
            "4          NaN  B.tech\n",
            "5          NaN  B.tech\n",
            "6          NaN  B.tech\n",
            "7          NaN  B.tech\n",
            "8          NaN  B.tech\n",
            "9          NaN  B.tech\n",
            "10         NaN  B.tech\n",
            "11         NaN  B.tech\n",
            "12         NaN  B.tech\n",
            "13         NaN  B.tech\n",
            "14         NaN  B.tech\n",
            "15         NaN  B.tech\n",
            "16         NaN  B.tech\n",
            "17         NaN  B.tech\n",
            "18         NaN  B.tech\n",
            "19         NaN  B.tech\n"
          ]
        }
      ]
    },
    {
      "cell_type": "code",
      "source": [
        "import pandas as pd\n",
        "data=pd.read_csv(\"heart.csv\")\n",
        "print(data)\n",
        "df=pd.DataFrame(data,columns=(\"age\",\"chol\"))\n",
        "print(df)"
      ],
      "metadata": {
        "colab": {
          "base_uri": "https://localhost:8080/"
        },
        "id": "oeMGQQrR9_Ec",
        "outputId": "6c78a34d-ad50-40b8-8394-85d7bc631a8f"
      },
      "execution_count": null,
      "outputs": [
        {
          "output_type": "stream",
          "name": "stdout",
          "text": [
            "      age  sex  cp  trestbps  chol  fbs  restecg  thalach  exang  oldpeak  \\\n",
            "0      52    1   0       125   212    0        1      168      0      1.0   \n",
            "1      53    1   0       140   203    1        0      155      1      3.1   \n",
            "2      70    1   0       145   174    0        1      125      1      2.6   \n",
            "3      61    1   0       148   203    0        1      161      0      0.0   \n",
            "4      62    0   0       138   294    1        1      106      0      1.9   \n",
            "...   ...  ...  ..       ...   ...  ...      ...      ...    ...      ...   \n",
            "1020   59    1   1       140   221    0        1      164      1      0.0   \n",
            "1021   60    1   0       125   258    0        0      141      1      2.8   \n",
            "1022   47    1   0       110   275    0        0      118      1      1.0   \n",
            "1023   50    0   0       110   254    0        0      159      0      0.0   \n",
            "1024   54    1   0       120   188    0        1      113      0      1.4   \n",
            "\n",
            "      slope  ca  thal  target  \n",
            "0         2   2     3       0  \n",
            "1         0   0     3       0  \n",
            "2         0   0     3       0  \n",
            "3         2   1     3       0  \n",
            "4         1   3     2       0  \n",
            "...     ...  ..   ...     ...  \n",
            "1020      2   0     2       1  \n",
            "1021      1   1     3       0  \n",
            "1022      1   1     2       0  \n",
            "1023      2   0     2       1  \n",
            "1024      1   1     3       0  \n",
            "\n",
            "[1025 rows x 14 columns]\n",
            "      age  chol\n",
            "0      52   212\n",
            "1      53   203\n",
            "2      70   174\n",
            "3      61   203\n",
            "4      62   294\n",
            "...   ...   ...\n",
            "1020   59   221\n",
            "1021   60   258\n",
            "1022   47   275\n",
            "1023   50   254\n",
            "1024   54   188\n",
            "\n",
            "[1025 rows x 2 columns]\n"
          ]
        }
      ]
    },
    {
      "cell_type": "code",
      "source": [
        "import pandas as pd\n",
        "data=pd.read_csv(\"games.csv\")\n",
        "print(data)\n",
        "df=pd.DataFrame(data,columns=(\"Game Name\",\"Release Year\"))\n",
        "print(df)"
      ],
      "metadata": {
        "colab": {
          "base_uri": "https://localhost:8080/"
        },
        "id": "0OtuMCxk-H8y",
        "outputId": "75390c07-f8ce-47dc-ae95-58e302a62166"
      },
      "execution_count": null,
      "outputs": [
        {
          "output_type": "stream",
          "name": "stdout",
          "text": [
            "                                    Game Name       Genre         Platform  \\\n",
            "0                   Sekiro: Shadows Die Twice      Sports  Nintendo Switch   \n",
            "1                                     Control      Puzzle  Nintendo Switch   \n",
            "2                                    Among Us    Strategy  Nintendo Switch   \n",
            "3                Call of Duty: Modern Warfare     Stealth      PlayStation   \n",
            "4                           League of Legends  Simulation               PC   \n",
            "...                                       ...         ...              ...   \n",
            "4995  The Legend of Zelda: Breath of the Wild      Sports               PC   \n",
            "4996                Assassin's Creed Valhalla     Stealth           Mobile   \n",
            "4997             Fall Guys: Ultimate Knockout      Sports           Mobile   \n",
            "4998                            Borderlands 3  Platformer             Xbox   \n",
            "4999         Counter-Strike: Global Offensive      Action      PlayStation   \n",
            "\n",
            "      Release Year  User Rating  \n",
            "0             2014     9.654719  \n",
            "1             2000     3.457386  \n",
            "2             2007     5.367622  \n",
            "3             2005     1.240325  \n",
            "4             2021     3.535476  \n",
            "...            ...          ...  \n",
            "4995          2013     6.352838  \n",
            "4996          2020     1.852730  \n",
            "4997          2021     5.268067  \n",
            "4998          2018     4.558510  \n",
            "4999          2022     3.443231  \n",
            "\n",
            "[5000 rows x 5 columns]\n",
            "                                    Game Name  Release Year\n",
            "0                   Sekiro: Shadows Die Twice          2014\n",
            "1                                     Control          2000\n",
            "2                                    Among Us          2007\n",
            "3                Call of Duty: Modern Warfare          2005\n",
            "4                           League of Legends          2021\n",
            "...                                       ...           ...\n",
            "4995  The Legend of Zelda: Breath of the Wild          2013\n",
            "4996                Assassin's Creed Valhalla          2020\n",
            "4997             Fall Guys: Ultimate Knockout          2021\n",
            "4998                            Borderlands 3          2018\n",
            "4999         Counter-Strike: Global Offensive          2022\n",
            "\n",
            "[5000 rows x 2 columns]\n"
          ]
        }
      ]
    }
  ]
}