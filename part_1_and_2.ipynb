{
  "nbformat": 4,
  "nbformat_minor": 0,
  "metadata": {
    "colab": {
      "provenance": [],
      "authorship_tag": "ABX9TyNpURLcJxrwM4VljgTwExOQ",
      "include_colab_link": true
    },
    "kernelspec": {
      "name": "python3",
      "display_name": "Python 3"
    },
    "language_info": {
      "name": "python"
    }
  },
  "cells": [
    {
      "cell_type": "markdown",
      "metadata": {
        "id": "view-in-github",
        "colab_type": "text"
      },
      "source": [
        "<a href=\"https://colab.research.google.com/github/VoorugondaAnushka/23CSBTB29/blob/main/part_1_and_2.ipynb\" target=\"_parent\"><img src=\"https://colab.research.google.com/assets/colab-badge.svg\" alt=\"Open In Colab\"/></a>"
      ]
    },
    {
      "cell_type": "code",
      "execution_count": null,
      "metadata": {
        "id": "IMoau16H3UTJ"
      },
      "outputs": [],
      "source": []
    },
    {
      "cell_type": "markdown",
      "source": [],
      "metadata": {
        "id": "H9V99-295yeJ"
      }
    },
    {
      "cell_type": "markdown",
      "source": [],
      "metadata": {
        "id": "cf0-7LOV52q-"
      }
    },
    {
      "cell_type": "markdown",
      "source": [
        "Basic data types of Array"
      ],
      "metadata": {
        "id": "THO8OyS47gCf"
      }
    },
    {
      "cell_type": "markdown",
      "source": [
        "Part 1 Basic data types"
      ],
      "metadata": {
        "id": "he36mTrbsAIG"
      }
    },
    {
      "cell_type": "code",
      "source": [
        "import numpy as np\n",
        "\n",
        "array1 = np.array([1, 2, 3, 4, 5])\n",
        "array2 = np.array([6, 7, 8, 9, 10])\n",
        "\n",
        "print(\"Type of array1:\", type(array1))\n",
        "print(\"Type of array2:\", type(array2))\n"
      ],
      "metadata": {
        "colab": {
          "base_uri": "https://localhost:8080/"
        },
        "id": "fsyMuCEb7qPv",
        "outputId": "9e1956d6-034e-45da-fa09-64368fbcba0a"
      },
      "execution_count": null,
      "outputs": [
        {
          "output_type": "stream",
          "name": "stdout",
          "text": [
            "Type of array1: <class 'numpy.ndarray'>\n",
            "Type of array2: <class 'numpy.ndarray'>\n"
          ]
        }
      ]
    },
    {
      "cell_type": "code",
      "source": [
        "import numpy as np\n",
        "mat = np.matrix([[1, 2], [3, 4]])\n",
        "print(mat)\n",
        "print(type(mat))"
      ],
      "metadata": {
        "colab": {
          "base_uri": "https://localhost:8080/"
        },
        "id": "PwFZ6zsh9xqI",
        "outputId": "f6c47bb1-6d43-4b5e-d0f1-445446a87c8e"
      },
      "execution_count": null,
      "outputs": [
        {
          "output_type": "stream",
          "name": "stdout",
          "text": [
            "[[1 2]\n",
            " [3 4]]\n",
            "<class 'numpy.matrix'>\n"
          ]
        }
      ]
    },
    {
      "cell_type": "code",
      "source": [
        "array1d = np.array([1, 2, 3, 4])\n",
        "print(\"1D Array:\")\n",
        "print(array1d)\n",
        "print(type(array1d))"
      ],
      "metadata": {
        "colab": {
          "base_uri": "https://localhost:8080/"
        },
        "id": "0Iv5Ha3697ga",
        "outputId": "2b778fb0-355e-41a7-aacb-0ef1ffc7a0a7"
      },
      "execution_count": null,
      "outputs": [
        {
          "output_type": "stream",
          "name": "stdout",
          "text": [
            "1D Array:\n",
            "[1 2 3 4]\n",
            "<class 'numpy.ndarray'>\n"
          ]
        }
      ]
    },
    {
      "cell_type": "code",
      "source": [
        "array2d = np.array([[1, 2], [3, 4]])\n",
        "print(\"2D Array:\")\n",
        "print(array_2d)\n",
        "print(type(array2d))"
      ],
      "metadata": {
        "colab": {
          "base_uri": "https://localhost:8080/"
        },
        "id": "PZhZb_r1-Ldq",
        "outputId": "87499a0d-c9ca-4fd5-b616-38b83db4b2d4"
      },
      "execution_count": null,
      "outputs": [
        {
          "output_type": "stream",
          "name": "stdout",
          "text": [
            "2D Array:\n",
            "[[1 2]\n",
            " [3 4]]\n",
            "<class 'numpy.ndarray'>\n"
          ]
        }
      ]
    },
    {
      "cell_type": "code",
      "source": [
        "array3d = np.array([[[1, 2], [3, 4]], [[5, 6], [7, 8]]])\n",
        "print(\"3D Array:\")\n",
        "print(array_3d)\n",
        "print(type(array3d))"
      ],
      "metadata": {
        "colab": {
          "base_uri": "https://localhost:8080/"
        },
        "id": "EIICvacI-ZAn",
        "outputId": "b9e5131b-90c3-4b82-e257-5a56da3e8f2e"
      },
      "execution_count": null,
      "outputs": [
        {
          "output_type": "stream",
          "name": "stdout",
          "text": [
            "3D Array:\n",
            "[[[1 2]\n",
            "  [3 4]]\n",
            "\n",
            " [[5 6]\n",
            "  [7 8]]]\n",
            "<class 'numpy.ndarray'>\n"
          ]
        }
      ]
    },
    {
      "cell_type": "code",
      "source": [
        "array4d = np.array([[[[1], [2]], [[3], [4]]]])\n",
        "print(\"4D Array:\")\n",
        "print(array_4d)\n",
        "print(type(array_4d))"
      ],
      "metadata": {
        "colab": {
          "base_uri": "https://localhost:8080/"
        },
        "id": "mze4AlQW-jhj",
        "outputId": "b7d819e3-9c81-4b9b-fcdc-e62838e35339"
      },
      "execution_count": null,
      "outputs": [
        {
          "output_type": "stream",
          "name": "stdout",
          "text": [
            "\n",
            "4D Array:\n",
            "[[[[1]\n",
            "   [2]]\n",
            "\n",
            "  [[3]\n",
            "   [4]]]]\n",
            "<class 'numpy.ndarray'>\n"
          ]
        }
      ]
    },
    {
      "cell_type": "code",
      "source": [
        "array1 = np.array([10, 20, 30, 40, 50])\n",
        "array2 = np.array([5, 4, 3, 2, 1])\n",
        "arrayaddition = array1 + array2\n",
        "print( \"arr_add\",arrayaddition)\n",
        "\n"
      ],
      "metadata": {
        "colab": {
          "base_uri": "https://localhost:8080/"
        },
        "id": "GsBYVRIPAXAY",
        "outputId": "d8efe95c-9aa5-452f-b805-1d385d04a97b"
      },
      "execution_count": null,
      "outputs": [
        {
          "output_type": "stream",
          "name": "stdout",
          "text": [
            "arr_add [15 24 33 42 51]\n"
          ]
        }
      ]
    },
    {
      "cell_type": "code",
      "source": [
        "array1 = np.array([10, 20, 30, 40, 50])\n",
        "array2 = np.array([5, 4, 3, 2, 1])\n"
      ],
      "metadata": {
        "id": "agjiQrykBiOM"
      },
      "execution_count": null,
      "outputs": []
    },
    {
      "cell_type": "code",
      "source": [
        "array1 = np.array([10, 20, 30, 40, 50])\n",
        "array2 = np.array([5, 4, 3, 2, 1])\n",
        "multiplication = array1 * array2\n",
        "print(\"Multiplication is\", multiplication)\n",
        "\n",
        "# Division\n",
        "division = array1 / array2\n",
        "print(\"Division  is\", division)\n",
        "\n",
        "# Exponentiation (poweroff)\n",
        "poweroff = array1 ** array2\n",
        "print(\"Poweroff (exponentiation) is:\", poweroff)\n"
      ],
      "metadata": {
        "colab": {
          "base_uri": "https://localhost:8080/"
        },
        "id": "yiLzKLu_rpkC",
        "outputId": "927a9205-750f-4d65-8c5a-0f17bb6d09dd"
      },
      "execution_count": 3,
      "outputs": [
        {
          "output_type": "stream",
          "name": "stdout",
          "text": [
            "Multiplication is [50 80 90 80 50]\n",
            "Division  is [ 2.  5. 10. 20. 50.]\n",
            "Poweroff (exponentiation) is: [100000 160000  27000   1600     50]\n"
          ]
        }
      ]
    },
    {
      "cell_type": "code",
      "source": [
        "import numpy as np\n",
        "matrix1 = np.array([[1, 2, 3], [4, 5, 6]])\n",
        "matrix2 = np.array([[7, 8, 9], [10, 11, 12], [13, 14, 15]])\n",
        "\n",
        "# Display the matrices\n",
        "print( matrix1)\n",
        "print( matrix2)\n",
        "print(type(matrix1))\n",
        "print(type(matrix2))\n"
      ],
      "metadata": {
        "colab": {
          "base_uri": "https://localhost:8080/"
        },
        "id": "Yoks1kfa_vME",
        "outputId": "6775d5b0-5ccd-4c3a-df9b-c070bac96be1"
      },
      "execution_count": null,
      "outputs": [
        {
          "output_type": "stream",
          "name": "stdout",
          "text": [
            "[[1 2 3]\n",
            " [4 5 6]]\n",
            "[[ 7  8  9]\n",
            " [10 11 12]\n",
            " [13 14 15]]\n",
            "<class 'numpy.ndarray'>\n",
            "<class 'numpy.ndarray'>\n"
          ]
        }
      ]
    },
    {
      "cell_type": "code",
      "source": [
        "import numpy as np\n",
        "import pandas as pd\n",
        "\n",
        "list1 = [1, 2, 3, 4, 5]\n",
        "list2 = [6, 7, 8, 9, 10]\n",
        "\n",
        "array1 = np.array(list1)\n",
        "array2 = np.array(list2)\n",
        "\n",
        "sin_array = np.sin(array1)\n",
        "print(\"Sine of array1:\", sin_array)\n",
        "log_array = np.log(array1)\n",
        "print(\"Logarithm of array1:\", log_array)\n",
        "log2_array = np.log2(array1)\n",
        "print(\"Logarithm base 2 of array1:\", log2_array)\n",
        "exp_array = np.exp(array1)\n",
        "print(\"Exponential of array1:\", exp_array)"
      ],
      "metadata": {
        "colab": {
          "base_uri": "https://localhost:8080/"
        },
        "id": "Qm2HQQ8WqlBW",
        "outputId": "690b5be9-fba0-4e84-ca26-f209e410c9c0"
      },
      "execution_count": 1,
      "outputs": [
        {
          "output_type": "stream",
          "name": "stdout",
          "text": [
            "Sine of array1: [ 0.84147098  0.90929743  0.14112001 -0.7568025  -0.95892427]\n",
            "Logarithm of array1: [0.         0.69314718 1.09861229 1.38629436 1.60943791]\n",
            "Logarithm base 2 of array1: [0.         1.         1.5849625  2.         2.32192809]\n",
            "Exponential of array1: [  2.71828183   7.3890561   20.08553692  54.59815003 148.4131591 ]\n"
          ]
        }
      ]
    },
    {
      "cell_type": "code",
      "source": [
        "import matplotlib.pyplot as plt\n",
        "\n",
        "#Dataset for Health Care\n",
        "\n",
        "people = ['Kiran', 'Arun', 'Vijay', 'Varun']\n",
        "age = [25, 30, 35, 40]\n",
        "height = [145, 151, 165, 173]\n",
        "weight = [45, 55, 65, 75]\n",
        "\n",
        "#Scatter Plot: Height vs Weight plt.scatter(height, weight, color='blue')\n",
        "\n",
        "plt.title('Height vs Weight')\n",
        "plt.xlabel('Height (cm)')\n",
        "plt.ylabel('Weight (kg)')\n",
        "plt.grid(True)\n",
        "plt.show()\n",
        "\n",
        "#Bar Chart: Age of People plt.bar(people, age, color='green')\n",
        "plt.title('Age of People')\n",
        "plt.xlabel('People')\n",
        "plt.ylabel('Age')\n",
        "plt.show()\n",
        "\n",
        "#Histogram: Height Distribution\n",
        "plt.hist (height, bins=5, color='purple')\n",
        "plt.title('Height Distribution')\n",
        "plt.xlabel('Height (cm)')\n",
        "plt.ylabel('Frequency')\n",
        "plt.show()"
      ],
      "metadata": {
        "colab": {
          "base_uri": "https://localhost:8080/",
          "height": 1000
        },
        "id": "2JN5MtmSrOlY",
        "outputId": "c84348c6-79cf-4bb0-d6f1-8ebb13ef0a2a"
      },
      "execution_count": 2,
      "outputs": [
        {
          "output_type": "display_data",
          "data": {
            "text/plain": [
              "<Figure size 640x480 with 1 Axes>"
            ],
            "image/png": "[encoded data removed]"
          },
          "metadata": {}
        },
        {
          "output_type": "display_data",
          "data": {
            "text/plain": [
              "<Figure size 640x480 with 1 Axes>"
            ],
            "image/png": "[encoded data removed]"
          },
          "metadata": {}
        },
        {
          "output_type": "display_data",
          "data": {
            "text/plain": [
              "<Figure size 640x480 with 1 Axes>"
            ],
            "image/png": "[encoded data removed]"
          },
          "metadata": {}
        }
      ]
    }
  ]
}